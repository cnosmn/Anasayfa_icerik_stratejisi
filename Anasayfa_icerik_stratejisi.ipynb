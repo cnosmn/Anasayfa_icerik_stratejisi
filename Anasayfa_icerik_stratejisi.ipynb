{
 "cells": [
  {
   "cell_type": "markdown",
   "id": "d4d5b2a2",
   "metadata": {},
   "source": [
    "# Anasayfa icerik stratejisi belirleme"
   ]
  },
  {
   "cell_type": "markdown",
   "id": "04cd750b",
   "metadata": {},
   "source": [
    "Web sitesinde haber içerikleri üreten bir şirket müşterilerinin web sitesinde daha fazla zaman geçirmesini sağlamak için bir haber stratejisi gelistirmek istiyor.\n",
    "Ornek olarak 3 farkli site arayuzunu 30 ar kisilik 3 grup musterilerine birbirinden habersiz dagitiyor.Sonuclara göre hangi web sitesi arayuzu kullanilacagi veri bilimci tarafindan belirlenmesi bekleniyor."
   ]
  },
  {
   "cell_type": "markdown",
   "id": "0259791d",
   "metadata": {},
   "source": [
    "Problem : Ana sayfada gecirilen sure artirilmak isteniyor.\n",
    "3 farkli sekilde haberler test gruplarina gosteriliyor.\n",
    "1. a) Dogal bir sekilde arayuz(normal haber sekli)\n",
    "2. b)Yonlendirici sekilde arayuz(musteriyi farkli bilgilerde animsatarak)\n",
    "3. c)Ilgi cekici bir arayuz(ilgi cekici kelimeler kullanarak)\n",
    "\n",
    "Cozum : Varyans Analizi ile Cozum"
   ]
  },
  {
   "cell_type": "code",
   "execution_count": 24,
   "id": "82f958bd",
   "metadata": {},
   "outputs": [],
   "source": [
    "import pandas as pd\n",
    "import numpy as np\n",
    "import seaborn as sb"
   ]
  },
  {
   "cell_type": "code",
   "execution_count": 25,
   "id": "8a57254c",
   "metadata": {},
   "outputs": [
    {
     "data": {
      "text/html": [
       "<div>\n",
       "<style scoped>\n",
       "    .dataframe tbody tr th:only-of-type {\n",
       "        vertical-align: middle;\n",
       "    }\n",
       "\n",
       "    .dataframe tbody tr th {\n",
       "        vertical-align: top;\n",
       "    }\n",
       "\n",
       "    .dataframe thead th {\n",
       "        text-align: right;\n",
       "    }\n",
       "</style>\n",
       "<table border=\"1\" class=\"dataframe\">\n",
       "  <thead>\n",
       "    <tr style=\"text-align: right;\">\n",
       "      <th></th>\n",
       "      <th>grup_a</th>\n",
       "      <th>grup_b</th>\n",
       "      <th>grup_c</th>\n",
       "    </tr>\n",
       "  </thead>\n",
       "  <tbody>\n",
       "    <tr>\n",
       "      <th>0</th>\n",
       "      <td>30</td>\n",
       "      <td>30</td>\n",
       "      <td>38</td>\n",
       "    </tr>\n",
       "    <tr>\n",
       "      <th>1</th>\n",
       "      <td>27</td>\n",
       "      <td>32</td>\n",
       "      <td>41</td>\n",
       "    </tr>\n",
       "    <tr>\n",
       "      <th>2</th>\n",
       "      <td>25</td>\n",
       "      <td>32</td>\n",
       "      <td>37</td>\n",
       "    </tr>\n",
       "    <tr>\n",
       "      <th>3</th>\n",
       "      <td>29</td>\n",
       "      <td>34</td>\n",
       "      <td>43</td>\n",
       "    </tr>\n",
       "    <tr>\n",
       "      <th>4</th>\n",
       "      <td>28</td>\n",
       "      <td>30</td>\n",
       "      <td>43</td>\n",
       "    </tr>\n",
       "  </tbody>\n",
       "</table>\n",
       "</div>"
      ],
      "text/plain": [
       "   grup_a  grup_b  grup_c\n",
       "0      30      30      38\n",
       "1      27      32      41\n",
       "2      25      32      37\n",
       "3      29      34      43\n",
       "4      28      30      43"
      ]
     },
     "execution_count": 25,
     "metadata": {},
     "output_type": "execute_result"
    }
   ],
   "source": [
    "#VERİ SETİ\n",
    "\n",
    "A = pd.DataFrame(np.random.randint(25,32,30))\n",
    "B = pd.DataFrame(np.random.randint(30,35,30))\n",
    "C = pd.DataFrame(np.random.randint(35,45,30))\n",
    "\n",
    "#dfs = [A,B,C] fancy index\n",
    "\n",
    "ABC = pd.concat([A,B,C], axis = 1)\n",
    "\n",
    "ABC.columns = [\"grup_a\",\"grup_b\",\"grup_c\"]\n",
    "ABC.head()"
   ]
  },
  {
   "cell_type": "markdown",
   "id": "ed5771eb",
   "metadata": {},
   "source": [
    "Varsayim kontrolu\n",
    "\n",
    "1. gruplar arasi bagimsizlik\n",
    "2. normallik(shapiro)\n",
    "3. varyans homojenligi"
   ]
  },
  {
   "cell_type": "markdown",
   "id": "f42fd7fb",
   "metadata": {},
   "source": [
    "1: gruplar birbirinden habersiz yapilmistir yani birbirinden bagimsiz"
   ]
  },
  {
   "cell_type": "code",
   "execution_count": 35,
   "id": "3fe87bbd",
   "metadata": {},
   "outputs": [
    {
     "name": "stdout",
     "output_type": "stream",
     "text": [
      "ShapiroResult(statistic=0.8978633880615234, pvalue=0.007449409458786249)\n",
      "ShapiroResult(statistic=0.9047898650169373, pvalue=0.011021527461707592)\n",
      "ShapiroResult(statistic=0.8910537958145142, pvalue=0.005110151134431362)\n"
     ]
    }
   ],
   "source": [
    "# 2. normallik analizi\n",
    "from scipy.stats import shapiro \n",
    "\n",
    "print(shapiro(ABC.grup_a))\n",
    "print(shapiro(ABC.grup_b))\n",
    "print(shapiro(ABC.grup_c))"
   ]
  },
  {
   "cell_type": "raw",
   "id": "df782f16",
   "metadata": {},
   "source": []
  },
  {
   "cell_type": "markdown",
   "id": "cf540989",
   "metadata": {},
   "source": [
    "p-value degerleri her grup icin de 0.05 den kucuk oldugu icin teorik dagilim ile orneklem arasinda anlamli farklilik vardir."
   ]
  },
  {
   "cell_type": "code",
   "execution_count": 29,
   "id": "6fb99a4c",
   "metadata": {},
   "outputs": [
    {
     "name": "stdout",
     "output_type": "stream",
     "text": [
      "LeveneResult(statistic=16.011779448621557, pvalue=1.1996510893472844e-06)\n"
     ]
    }
   ],
   "source": [
    "# 3. varyans homojenligi\n",
    "from scipy.stats import levene\n",
    "\n",
    "print(levene(ABC.grup_a,ABC.grup_b,ABC.grup_c))"
   ]
  },
  {
   "cell_type": "code",
   "execution_count": 33,
   "id": "3f419bb1",
   "metadata": {},
   "outputs": [
    {
     "name": "stdout",
     "output_type": "stream",
     "text": [
      "statistic : 16.0118  p-value : 0.000001\n"
     ]
    }
   ],
   "source": [
    "print(\"statistic : %.4f  p-value : %.6f\"%(levene(ABC.grup_a,ABC.grup_b,ABC.grup_c)))"
   ]
  },
  {
   "cell_type": "markdown",
   "id": "9b08617b",
   "metadata": {},
   "source": [
    "P-value degeri 0.05 den kucuk yani varyans (aralarindaki iliski) homojen degildir."
   ]
  },
  {
   "cell_type": "markdown",
   "id": "b671fd0e",
   "metadata": {},
   "source": [
    " Kosullar saglamadigi icin Nonparametrik varyans analizi yapilir."
   ]
  },
  {
   "cell_type": "code",
   "execution_count": 38,
   "id": "6ebd8699",
   "metadata": {},
   "outputs": [
    {
     "data": {
      "text/plain": [
       "KruskalResult(statistic=75.65539893675684, pvalue=3.72939906657792e-17)"
      ]
     },
     "execution_count": 38,
     "metadata": {},
     "output_type": "execute_result"
    }
   ],
   "source": [
    "#nonparametrik :\n",
    "from scipy.stats import kruskal\n",
    "kruskal(ABC.grup_a , ABC.grup_b , ABC.grup_c)"
   ]
  },
  {
   "cell_type": "code",
   "execution_count": 40,
   "id": "76bc3e46",
   "metadata": {},
   "outputs": [
    {
     "name": "stdout",
     "output_type": "stream",
     "text": [
      "statistic : 75.6554  p-value : 0.000000000000000037\n"
     ]
    }
   ],
   "source": [
    "print(\"statistic : %.4f  p-value : %.18f\"%(kruskal(ABC.grup_a , ABC.grup_b , ABC.grup_c)))"
   ]
  },
  {
   "cell_type": "markdown",
   "id": "b59dcd2a",
   "metadata": {},
   "source": [
    "GRUPLAR ARASİ ANLAMLİ BİR FARKLİLİK VARDİR.\n"
   ]
  },
  {
   "cell_type": "markdown",
   "id": "14077318",
   "metadata": {},
   "source": [
    "SONUC OLARAK C GRUBUNA SUNULAN HABER ARAYUZU SECİLMELİDİR.(İLGİ CEKİCİ)"
   ]
  }
 ],
 "metadata": {
  "kernelspec": {
   "display_name": "Python 3 (ipykernel)",
   "language": "python",
   "name": "python3"
  },
  "language_info": {
   "codemirror_mode": {
    "name": "ipython",
    "version": 3
   },
   "file_extension": ".py",
   "mimetype": "text/x-python",
   "name": "python",
   "nbconvert_exporter": "python",
   "pygments_lexer": "ipython3",
   "version": "3.9.12"
  }
 },
 "nbformat": 4,
 "nbformat_minor": 5
}
